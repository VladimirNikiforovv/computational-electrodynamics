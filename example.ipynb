{
 "cells": [
  {
   "cell_type": "code",
   "execution_count": 1,
   "id": "3d13cbe3-2332-4b17-bd70-0f710707befd",
   "metadata": {},
   "outputs": [],
   "source": [
    "from FDTD_Ez import *"
   ]
  },
  {
   "cell_type": "markdown",
   "id": "e98af5c3-63a8-4607-a95a-f392926521d5",
   "metadata": {},
   "source": [
    "Определим распределение диэлектрика"
   ]
  },
  {
   "cell_type": "code",
   "execution_count": 3,
   "id": "b2b42de1-aa0b-4dfd-810f-3173827fea4b",
   "metadata": {},
   "outputs": [],
   "source": [
    "@njit\n",
    "def circle_set(N, L, r):\n",
    "    space = np.ones((N, N))    \n",
    "    x = np.linspace(-L/2, L/2, N)\n",
    "    y = x\n",
    "    for k in range(-5,6):\n",
    "        for l in range(-0,4):\n",
    "            for i in range(0, N):\n",
    "                for j in range(0, N):\n",
    "                    if l%2 == 0:\n",
    "                        if ((x[i] - 0.1*k)**2 + (y[j] - 0.1*l)**2) <= r**2:\n",
    "                            space[i, j] = 4\n",
    "                    else:\n",
    "                        if ((x[i] - 0.1*k-0.05)**2 + (y[j] - 0.1*l)**2) <= r**2:\n",
    "                            space[i, j] = 8                           \n",
    "    return space"
   ]
  },
  {
   "cell_type": "markdown",
   "id": "66bb3e53-d6dd-49ff-b32f-269a711856f7",
   "metadata": {},
   "source": [
    "Определим функцию распределения источника"
   ]
  },
  {
   "cell_type": "code",
   "execution_count": 4,
   "id": "10d8d537-4396-42b4-ad6b-a6758a36420d",
   "metadata": {},
   "outputs": [],
   "source": [
    "@njit\n",
    "def esours(N, T, t, x, y):\n",
    "    source = np.zeros((N, N, T))\n",
    "    for i in range(250, N):\n",
    "        for k in range(0, T):            \n",
    "            source[N-i,i-200,k] = 4*np.sin(599584916021005.8*(t[k])) \n",
    "    return source"
   ]
  },
  {
   "cell_type": "code",
   "execution_count": 5,
   "id": "77de2adf-63a5-4f43-8847-a087418d5cbd",
   "metadata": {},
   "outputs": [],
   "source": [
    "N = 300\n",
    "r = 0.015\n",
    "L = 1"
   ]
  },
  {
   "cell_type": "code",
   "execution_count": 6,
   "id": "d118b8dd-46d3-4d9a-aedf-928d3035cd4d",
   "metadata": {},
   "outputs": [],
   "source": [
    "set_circ = circle_set(N, L, r)"
   ]
  },
  {
   "cell_type": "code",
   "execution_count": 7,
   "id": "b5c71240-7689-4d58-9cb6-82e8e3a2b11e",
   "metadata": {},
   "outputs": [
    {
     "data": {
      "text/plain": [
       "<matplotlib.image.AxesImage at 0x1c498f97d50>"
      ]
     },
     "execution_count": 7,
     "metadata": {},
     "output_type": "execute_result"
    },
    {
     "data": {
      "image/png": "[encoded data removed]",
      "text/plain": [
       "<Figure size 640x480 with 1 Axes>"
      ]
     },
     "metadata": {},
     "output_type": "display_data"
    }
   ],
   "source": [
    "plt.imshow(set_circ)"
   ]
  },
  {
   "cell_type": "markdown",
   "id": "c35042c9-799d-4178-aabc-9b789e8fc27e",
   "metadata": {},
   "source": [
    "Выполним расчет"
   ]
  },
  {
   "cell_type": "code",
   "execution_count": 8,
   "id": "41810bd0-2a4b-4405-9219-e072dfb63d42",
   "metadata": {},
   "outputs": [
    {
     "name": "stdout",
     "output_type": "stream",
     "text": [
      "Время старта: 2024-05-07 00:07:20.465941\n",
      "Время окончания: 2024-05-07 00:08:04.532719\n",
      "Время работы: 0:00:44.066778\n"
     ]
    }
   ],
   "source": [
    "start = datetime.datetime.now()\n",
    "print('Время старта: ' + str(start))\n",
    "test = FDTD(N = 300, T = 1000)\n",
    "source = esours(test.N, test.T, test.time, test.x, test.y)        \n",
    "test.set_source(source)\n",
    "test.set_epsilon(set_circ)\n",
    "test.calc_field(True)\n",
    "finish = datetime.datetime.now()\n",
    "print('Время окончания: ' + str(finish))\n",
    "print('Время работы: ' + str(finish - start)) "
   ]
  },
  {
   "cell_type": "markdown",
   "id": "8cbbcc60-5079-47a4-8a45-8bed5f60dfe5",
   "metadata": {},
   "source": [
    "Выведем анимацию решения"
   ]
  },
  {
   "cell_type": "code",
   "execution_count": null,
   "id": "3444c938-c939-4423-bfc9-1f3a79cd81c3",
   "metadata": {},
   "outputs": [],
   "source": [
    "fig1, ax = plt.subplots()\n",
    "ims = []\n",
    "for i in range(test.T):\n",
    "    im = ax.imshow(test.Ez[:,:,i], animated=True, cmap='plasma', aspect='equal', vmin=-1, vmax=1)\n",
    "    ims.append([im])\n",
    "ani = animation.ArtistAnimation(fig1, ims, interval=5, blit=True,\n",
    "                                repeat_delay=1000)\n",
    "fig1.colorbar(im)\n",
    "ani.save(\"refractive_on_photonic_crystal.gif\")\n",
    "\n",
    "plt.show()"
   ]
  },
  {
   "cell_type": "markdown",
   "id": "a6f83f6e-ad9b-44bc-9ffb-d4d18cd8d03f",
   "metadata": {},
   "source": [
    "<img src='refractive_on_photonic_crystal.gif' width=500, heigth=500>"
   ]
  },
  {
   "cell_type": "code",
   "execution_count": null,
   "id": "c674c674-8c6d-48c8-b86c-05bcd8c51dbd",
   "metadata": {},
   "outputs": [],
   "source": []
  }
 ],
 "metadata": {
  "kernelspec": {
   "display_name": "Python 3 (ipykernel)",
   "language": "python",
   "name": "python3"
  },
  "language_info": {
   "codemirror_mode": {
    "name": "ipython",
    "version": 3
   },
   "file_extension": ".py",
   "mimetype": "text/x-python",
   "name": "python",
   "nbconvert_exporter": "python",
   "pygments_lexer": "ipython3",
   "version": "3.11.7"
  }
 },
 "nbformat": 4,
 "nbformat_minor": 5
}
